{
 "cells": [
  {
   "cell_type": "code",
   "execution_count": 2,
   "metadata": {},
   "outputs": [],
   "source": [
    "import torch\r\n",
    "import torchvision\r\n",
    "import torch.nn as nn\r\n",
    "import matplotlib.pyplot as plt\r\n",
    "from time import time\r\n",
    "from torchviz import make_dot\r\n",
    "import numpy as np"
   ]
  },
  {
   "cell_type": "code",
   "execution_count": 22,
   "metadata": {},
   "outputs": [],
   "source": [
    "def plot_mnist_number(img):\r\n",
    "    plt.imshow(img.numpy().squeeze(), cmap='gray', interpolation='none')"
   ]
  },
  {
   "cell_type": "code",
   "execution_count": 5,
   "metadata": {},
   "outputs": [
    {
     "name": "stdout",
     "output_type": "stream",
     "text": [
      "Sequential(\n",
      "  (0): Linear(in_features=784, out_features=128, bias=True)\n",
      "  (1): ReLU()\n",
      "  (2): Linear(in_features=128, out_features=64, bias=True)\n",
      "  (3): ReLU()\n",
      "  (4): Linear(in_features=64, out_features=10, bias=True)\n",
      "  (5): LogSoftmax(dim=1)\n",
      ")\n",
      "Epoch 0 - Training loss: 1.2430874847682418\n",
      "Epoch 1 - Training loss: 0.4221275613945761\n",
      "Epoch 2 - Training loss: 0.3385315683616954\n",
      "Epoch 3 - Training loss: 0.28825192898511887\n",
      "Epoch 4 - Training loss: 0.25893566040856064\n",
      "Epoch 5 - Training loss: 0.23540789216377173\n",
      "Epoch 6 - Training loss: 0.20552188010921904\n",
      "Epoch 7 - Training loss: 0.18409818605442715\n",
      "Epoch 8 - Training loss: 0.1652195109825605\n",
      "Epoch 9 - Training loss: 0.1514236931540784\n",
      "Epoch 10 - Training loss: 0.13825726810439376\n",
      "Epoch 11 - Training loss: 0.12689841327488802\n",
      "Epoch 12 - Training loss: 0.11478778537196718\n",
      "Epoch 13 - Training loss: 0.1040959938482684\n",
      "Epoch 14 - Training loss: 0.09421251882698126\n",
      "\n",
      "Training Time (in minutes) = 0.5243378202120463\n"
     ]
    }
   ],
   "source": [
    "input_size = 784\r\n",
    "hidden_sizes = [256, 64]\r\n",
    "output_size = 10\r\n",
    "model = nn.Sequential(nn.Linear(input_size, hidden_sizes[0]),\r\n",
    "                      nn.ReLU(),\r\n",
    "                      nn.Linear(hidden_sizes[0], hidden_sizes[1]),\r\n",
    "                      nn.ReLU(),\r\n",
    "                      nn.Linear(hidden_sizes[1], output_size),\r\n",
    "                      nn.LogSoftmax(dim=1))\r\n",
    "print(model)\r\n",
    "\r\n",
    "transform = torchvision.transforms.Compose([torchvision.transforms.ToTensor(), torchvision.transforms.Normalize((0.5,), (0.5,)),])\r\n",
    "\r\n",
    "testset = torchvision.datasets.MNIST('./', train=False, download=True, transform=transform)\r\n",
    "trainset = torchvision.datasets.MNIST('./', train=False, download=True, transform=transform)\r\n",
    "\r\n",
    "testloader = torch.utils.data.DataLoader(testset, batch_size=64, shuffle=True)\r\n",
    "trainloader = torch.utils.data.DataLoader(trainset, batch_size=64, shuffle=True)\r\n",
    "\r\n",
    "criterion = nn.NLLLoss()\r\n",
    "optimizer = torch.optim.SGD(model.parameters(), lr=0.01, momentum=0.8)\r\n",
    "images, labels = next(iter(trainloader))  \r\n",
    "time0 = time()\r\n",
    "epochs = 15\r\n",
    "for e in range(epochs):\r\n",
    "    running_loss = 0\r\n",
    "    for images, labels in trainloader:\r\n",
    "      images = images.view(images.shape[0], -1)\r\n",
    "      optimizer.zero_grad()          \r\n",
    "      output = model(images)\r\n",
    "      loss = criterion(output, labels)\r\n",
    "      \r\n",
    "      #backprop\r\n",
    "      loss.backward()\r\n",
    "      \r\n",
    "      #adjust weights\r\n",
    "      optimizer.step()\r\n",
    "      \r\n",
    "      running_loss += loss.item()\r\n",
    "    else:\r\n",
    "        print(f\"Epoch {e} - Training loss: {running_loss/len(trainloader)}\")\r\n",
    "print(\"\\nTraining Time (in minutes) =\",(time()-time0)/60)  "
   ]
  },
  {
   "cell_type": "code",
   "execution_count": 30,
   "metadata": {},
   "outputs": [
    {
     "name": "stdout",
     "output_type": "stream",
     "text": [
      "Predicted Digit = 6\n"
     ]
    },
    {
     "data": {
      "image/png": "[encoded data removed]",
      "text/plain": "<Figure size 432x288 with 1 Axes>"
     },
     "metadata": {
      "needs_background": "light"
     },
     "output_type": "display_data"
    }
   ],
   "source": [
    "images, labels = next(iter(testloader))\r\n",
    "img = images[0].view(1, 784)\r\n",
    "\r\n",
    "with torch.no_grad():\r\n",
    "    logps = model(img)\r\n",
    "\r\n",
    "# Output of the network are log-probabilities, need to take exponential for probabilities\r\n",
    "ps = torch.exp(logps)\r\n",
    "probab = list(ps.numpy()[0])\r\n",
    "\r\n",
    "print(\"Predicted Digit =\", probab.index(max(probab)))\r\n",
    "\r\n",
    "plot_mnist_number(img.view(1, 28, 28))"
   ]
  }
 ],
 "metadata": {
  "kernelspec": {
   "display_name": "Python 3.8.5 64-bit (conda)",
   "name": "python385jvsc74a57bd0dba589b2ec7faf9c3a1366de875662e49225107a081eaaa9ea06d8b7b3fc191b"
  },
  "language_info": {
   "codemirror_mode": {
    "name": "ipython",
    "version": 3
   },
   "file_extension": ".py",
   "mimetype": "text/x-python",
   "name": "python",
   "nbconvert_exporter": "python",
   "pygments_lexer": "ipython3",
   "version": "3.8.5"
  }
 },
 "nbformat": 4,
 "nbformat_minor": 5
}